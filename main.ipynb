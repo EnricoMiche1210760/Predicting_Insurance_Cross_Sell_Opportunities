{
 "cells": [
  {
   "cell_type": "markdown",
   "metadata": {},
   "source": [
    "# Predicting Insurance Cross Sell Opportunities"
   ]
  },
  {
   "cell_type": "code",
   "execution_count": 1,
   "metadata": {},
   "outputs": [],
   "source": [
    "import pandas as pd"
   ]
  },
  {
   "cell_type": "code",
   "execution_count": 8,
   "metadata": {},
   "outputs": [
    {
     "name": "stdout",
     "output_type": "stream",
     "text": [
      "   id  Gender  Age  Driving_License  Region_Code  Previously_Insured  \\\n",
      "0   1    Male   44                1         28.0                   0   \n",
      "1   2    Male   76                1          3.0                   0   \n",
      "2   3    Male   47                1         28.0                   0   \n",
      "3   4    Male   21                1         11.0                   1   \n",
      "4   5  Female   29                1         41.0                   1   \n",
      "\n",
      "  Vehicle_Age Vehicle_Damage  Annual_Premium  Policy_Sales_Channel  Vintage  \\\n",
      "0   > 2 Years            Yes         40454.0                  26.0      217   \n",
      "1    1-2 Year             No         33536.0                  26.0      183   \n",
      "2   > 2 Years            Yes         38294.0                  26.0       27   \n",
      "3    < 1 Year             No         28619.0                 152.0      203   \n",
      "4    < 1 Year             No         27496.0                 152.0       39   \n",
      "\n",
      "   Response  \n",
      "0         1  \n",
      "1         0  \n",
      "2         1  \n",
      "3         0  \n",
      "4         0  \n"
     ]
    }
   ],
   "source": [
    "insurance_df = pd.read_csv('data/insurance_cross_sell.csv')\n",
    "print(insurance_df.head())"
   ]
  },
  {
   "cell_type": "code",
   "execution_count": 20,
   "metadata": {},
   "outputs": [
    {
     "name": "stdout",
     "output_type": "stream",
     "text": [
      "<class 'pandas.core.frame.DataFrame'>\n",
      "RangeIndex: 381109 entries, 0 to 381108\n",
      "Data columns (total 12 columns):\n",
      " #   Column                Non-Null Count   Dtype  \n",
      "---  ------                --------------   -----  \n",
      " 0   id                    381109 non-null  int64  \n",
      " 1   Gender                381109 non-null  object \n",
      " 2   Age                   381109 non-null  int64  \n",
      " 3   Driving_License       381109 non-null  int64  \n",
      " 4   Region_Code           381109 non-null  float64\n",
      " 5   Previously_Insured    381109 non-null  int64  \n",
      " 6   Vehicle_Age           381109 non-null  object \n",
      " 7   Vehicle_Damage        381109 non-null  object \n",
      " 8   Annual_Premium        381109 non-null  float64\n",
      " 9   Policy_Sales_Channel  381109 non-null  float64\n",
      " 10  Vintage               381109 non-null  int64  \n",
      " 11  Response              381109 non-null  int64  \n",
      "dtypes: float64(3), int64(6), object(3)\n",
      "memory usage: 34.9+ MB\n",
      "None\n",
      "id                      381109\n",
      "Gender                  381109\n",
      "Age                     381109\n",
      "Driving_License         381109\n",
      "Region_Code             381109\n",
      "Previously_Insured      381109\n",
      "Vehicle_Age             381109\n",
      "Vehicle_Damage          381109\n",
      "Annual_Premium          381109\n",
      "Policy_Sales_Channel    381109\n",
      "Vintage                 381109\n",
      "Response                381109\n",
      "dtype: int64\n"
     ]
    }
   ],
   "source": [
    "print(insurance_df.info())\n",
    "print(insurance_df.count())"
   ]
  },
  {
   "cell_type": "code",
   "execution_count": 29,
   "metadata": {},
   "outputs": [
    {
     "name": "stdout",
     "output_type": "stream",
     "text": [
      "Gender\n",
      "Male      206089\n",
      "Female    175020\n",
      "Name: count, dtype: int64\n",
      "Age\n",
      "24    25960\n",
      "23    24256\n",
      "22    20964\n",
      "25    20636\n",
      "21    16457\n",
      "      ...  \n",
      "81       56\n",
      "82       29\n",
      "83       22\n",
      "84       11\n",
      "85       11\n",
      "Name: count, Length: 66, dtype: int64\n",
      "Driving_License\n",
      "1    380297\n",
      "0       812\n",
      "Name: count, dtype: int64\n",
      "Region_Code\n",
      "28.0    106415\n",
      "8.0      33877\n",
      "46.0     19749\n",
      "41.0     18263\n",
      "15.0     13308\n",
      "30.0     12191\n",
      "29.0     11065\n",
      "50.0     10243\n",
      "3.0       9251\n",
      "11.0      9232\n",
      "36.0      8797\n",
      "33.0      7654\n",
      "47.0      7436\n",
      "35.0      6942\n",
      "6.0       6280\n",
      "45.0      5605\n",
      "37.0      5501\n",
      "18.0      5153\n",
      "48.0      4681\n",
      "14.0      4678\n",
      "39.0      4644\n",
      "10.0      4374\n",
      "21.0      4266\n",
      "2.0       4038\n",
      "13.0      4036\n",
      "7.0       3279\n",
      "12.0      3198\n",
      "9.0       3101\n",
      "27.0      2823\n",
      "32.0      2787\n",
      "43.0      2639\n",
      "17.0      2617\n",
      "26.0      2587\n",
      "25.0      2503\n",
      "24.0      2415\n",
      "38.0      2026\n",
      "0.0       2021\n",
      "16.0      2007\n",
      "31.0      1960\n",
      "23.0      1960\n",
      "20.0      1935\n",
      "49.0      1832\n",
      "4.0       1801\n",
      "34.0      1664\n",
      "19.0      1535\n",
      "22.0      1309\n",
      "40.0      1295\n",
      "5.0       1279\n",
      "1.0       1008\n",
      "44.0       808\n",
      "42.0       591\n",
      "52.0       267\n",
      "51.0       183\n",
      "Name: count, dtype: int64\n",
      "Previously_Insured\n",
      "0    206481\n",
      "1    174628\n",
      "Name: count, dtype: int64\n",
      "Vehicle_Age\n",
      "1-2 Year     200316\n",
      "< 1 Year     164786\n",
      "> 2 Years     16007\n",
      "Name: count, dtype: int64\n",
      "Vehicle_Damage\n",
      "Yes    192413\n",
      "No     188696\n",
      "Name: count, dtype: int64\n",
      "Policy_Sales_Channel\n",
      "152.0    134784\n",
      "26.0      79700\n",
      "124.0     73995\n",
      "160.0     21779\n",
      "156.0     10661\n",
      "          ...  \n",
      "149.0         1\n",
      "43.0          1\n",
      "144.0         1\n",
      "143.0         1\n",
      "41.0          1\n",
      "Name: count, Length: 155, dtype: int64\n",
      "Vintage\n",
      "256    1418\n",
      "73     1410\n",
      "282    1397\n",
      "158    1394\n",
      "187    1392\n",
      "       ... \n",
      "205    1235\n",
      "89     1234\n",
      "32     1230\n",
      "224    1227\n",
      "277    1226\n",
      "Name: count, Length: 290, dtype: int64\n",
      "Response\n",
      "0    334399\n",
      "1     46710\n",
      "Name: count, dtype: int64\n"
     ]
    }
   ],
   "source": [
    "insurance_df_no_id = insurance_df.drop([\"id\",\"Annual_Premium\"],  axis=1).copy()\n",
    "for column in insurance_df_no_id.columns:\n",
    "    print(insurance_df_no_id[column].value_counts())"
   ]
  },
  {
   "cell_type": "code",
   "execution_count": 18,
   "metadata": {},
   "outputs": [
    {
     "name": "stdout",
     "output_type": "stream",
     "text": [
      "Response\n",
      "0    771\n",
      "1     41\n",
      "Name: count, dtype: int64\n"
     ]
    }
   ],
   "source": [
    "responce_with_no_licence = insurance_df[insurance_df[\"Driving_License\"] == 0][\"Response\"]\n",
    "print(responce_with_no_licence.value_counts())\n",
    "\n",
    "#potrebbe trattarsi di una bicicletta o di un monopattino elettrico ad esempio\n"
   ]
  }
 ],
 "metadata": {
  "kernelspec": {
   "display_name": "base",
   "language": "python",
   "name": "python3"
  },
  "language_info": {
   "codemirror_mode": {
    "name": "ipython",
    "version": 3
   },
   "file_extension": ".py",
   "mimetype": "text/x-python",
   "name": "python",
   "nbconvert_exporter": "python",
   "pygments_lexer": "ipython3",
   "version": "3.11.5"
  }
 },
 "nbformat": 4,
 "nbformat_minor": 2
}
