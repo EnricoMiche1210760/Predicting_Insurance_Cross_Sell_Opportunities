{
 "cells": [
  {
   "cell_type": "markdown",
   "metadata": {},
   "source": [
    "# Predicting Insurance Cross Sell Opportunities"
   ]
  },
  {
   "cell_type": "code",
   "execution_count": 3,
   "metadata": {},
   "outputs": [],
   "source": [
    "import pandas as pd\n",
    "import numpy as np\n",
    "import matplotlib.pyplot as plt\n",
    "import seaborn as sns\n",
    "from sklearn.preprocessing import StandardScaler\n",
    "from sklearn.model_selection import train_test_split"
   ]
  },
  {
   "cell_type": "markdown",
   "metadata": {},
   "source": [
    "## Importing the dataset"
   ]
  },
  {
   "cell_type": "code",
   "execution_count": 4,
   "metadata": {},
   "outputs": [
    {
     "data": {
      "text/html": [
       "<div>\n",
       "<style scoped>\n",
       "    .dataframe tbody tr th:only-of-type {\n",
       "        vertical-align: middle;\n",
       "    }\n",
       "\n",
       "    .dataframe tbody tr th {\n",
       "        vertical-align: top;\n",
       "    }\n",
       "\n",
       "    .dataframe thead th {\n",
       "        text-align: right;\n",
       "    }\n",
       "</style>\n",
       "<table border=\"1\" class=\"dataframe\">\n",
       "  <thead>\n",
       "    <tr style=\"text-align: right;\">\n",
       "      <th></th>\n",
       "      <th>id</th>\n",
       "      <th>Gender</th>\n",
       "      <th>Age</th>\n",
       "      <th>Driving_License</th>\n",
       "      <th>Region_Code</th>\n",
       "      <th>Previously_Insured</th>\n",
       "      <th>Vehicle_Age</th>\n",
       "      <th>Vehicle_Damage</th>\n",
       "      <th>Annual_Premium</th>\n",
       "      <th>Policy_Sales_Channel</th>\n",
       "      <th>Vintage</th>\n",
       "      <th>Response</th>\n",
       "    </tr>\n",
       "  </thead>\n",
       "  <tbody>\n",
       "    <tr>\n",
       "      <th>0</th>\n",
       "      <td>1</td>\n",
       "      <td>Male</td>\n",
       "      <td>44</td>\n",
       "      <td>1</td>\n",
       "      <td>28.0</td>\n",
       "      <td>0</td>\n",
       "      <td>&gt; 2 Years</td>\n",
       "      <td>Yes</td>\n",
       "      <td>40454.0</td>\n",
       "      <td>26.0</td>\n",
       "      <td>217</td>\n",
       "      <td>1</td>\n",
       "    </tr>\n",
       "    <tr>\n",
       "      <th>1</th>\n",
       "      <td>2</td>\n",
       "      <td>Male</td>\n",
       "      <td>76</td>\n",
       "      <td>1</td>\n",
       "      <td>3.0</td>\n",
       "      <td>0</td>\n",
       "      <td>1-2 Year</td>\n",
       "      <td>No</td>\n",
       "      <td>33536.0</td>\n",
       "      <td>26.0</td>\n",
       "      <td>183</td>\n",
       "      <td>0</td>\n",
       "    </tr>\n",
       "    <tr>\n",
       "      <th>2</th>\n",
       "      <td>3</td>\n",
       "      <td>Male</td>\n",
       "      <td>47</td>\n",
       "      <td>1</td>\n",
       "      <td>28.0</td>\n",
       "      <td>0</td>\n",
       "      <td>&gt; 2 Years</td>\n",
       "      <td>Yes</td>\n",
       "      <td>38294.0</td>\n",
       "      <td>26.0</td>\n",
       "      <td>27</td>\n",
       "      <td>1</td>\n",
       "    </tr>\n",
       "    <tr>\n",
       "      <th>3</th>\n",
       "      <td>4</td>\n",
       "      <td>Male</td>\n",
       "      <td>21</td>\n",
       "      <td>1</td>\n",
       "      <td>11.0</td>\n",
       "      <td>1</td>\n",
       "      <td>&lt; 1 Year</td>\n",
       "      <td>No</td>\n",
       "      <td>28619.0</td>\n",
       "      <td>152.0</td>\n",
       "      <td>203</td>\n",
       "      <td>0</td>\n",
       "    </tr>\n",
       "    <tr>\n",
       "      <th>4</th>\n",
       "      <td>5</td>\n",
       "      <td>Female</td>\n",
       "      <td>29</td>\n",
       "      <td>1</td>\n",
       "      <td>41.0</td>\n",
       "      <td>1</td>\n",
       "      <td>&lt; 1 Year</td>\n",
       "      <td>No</td>\n",
       "      <td>27496.0</td>\n",
       "      <td>152.0</td>\n",
       "      <td>39</td>\n",
       "      <td>0</td>\n",
       "    </tr>\n",
       "  </tbody>\n",
       "</table>\n",
       "</div>"
      ],
      "text/plain": [
       "   id  Gender  Age  Driving_License  Region_Code  Previously_Insured  \\\n",
       "0   1    Male   44                1         28.0                   0   \n",
       "1   2    Male   76                1          3.0                   0   \n",
       "2   3    Male   47                1         28.0                   0   \n",
       "3   4    Male   21                1         11.0                   1   \n",
       "4   5  Female   29                1         41.0                   1   \n",
       "\n",
       "  Vehicle_Age Vehicle_Damage  Annual_Premium  Policy_Sales_Channel  Vintage  \\\n",
       "0   > 2 Years            Yes         40454.0                  26.0      217   \n",
       "1    1-2 Year             No         33536.0                  26.0      183   \n",
       "2   > 2 Years            Yes         38294.0                  26.0       27   \n",
       "3    < 1 Year             No         28619.0                 152.0      203   \n",
       "4    < 1 Year             No         27496.0                 152.0       39   \n",
       "\n",
       "   Response  \n",
       "0         1  \n",
       "1         0  \n",
       "2         1  \n",
       "3         0  \n",
       "4         0  "
      ]
     },
     "execution_count": 4,
     "metadata": {},
     "output_type": "execute_result"
    }
   ],
   "source": [
    "insurance_df = pd.read_csv('data/insurance_cross_sell.csv')\n",
    "insurance_df.head()"
   ]
  },
  {
   "cell_type": "code",
   "execution_count": 5,
   "metadata": {},
   "outputs": [
    {
     "data": {
      "text/html": [
       "<div>\n",
       "<style scoped>\n",
       "    .dataframe tbody tr th:only-of-type {\n",
       "        vertical-align: middle;\n",
       "    }\n",
       "\n",
       "    .dataframe tbody tr th {\n",
       "        vertical-align: top;\n",
       "    }\n",
       "\n",
       "    .dataframe thead th {\n",
       "        text-align: right;\n",
       "    }\n",
       "</style>\n",
       "<table border=\"1\" class=\"dataframe\">\n",
       "  <thead>\n",
       "    <tr style=\"text-align: right;\">\n",
       "      <th></th>\n",
       "      <th>id</th>\n",
       "      <th>Age</th>\n",
       "      <th>Driving_License</th>\n",
       "      <th>Region_Code</th>\n",
       "      <th>Previously_Insured</th>\n",
       "      <th>Annual_Premium</th>\n",
       "      <th>Policy_Sales_Channel</th>\n",
       "      <th>Vintage</th>\n",
       "      <th>Response</th>\n",
       "    </tr>\n",
       "  </thead>\n",
       "  <tbody>\n",
       "    <tr>\n",
       "      <th>count</th>\n",
       "      <td>381109.00</td>\n",
       "      <td>381109.00</td>\n",
       "      <td>381109.00</td>\n",
       "      <td>381109.00</td>\n",
       "      <td>381109.00</td>\n",
       "      <td>381109.00</td>\n",
       "      <td>381109.00</td>\n",
       "      <td>381109.00</td>\n",
       "      <td>381109.00</td>\n",
       "    </tr>\n",
       "    <tr>\n",
       "      <th>mean</th>\n",
       "      <td>190555.00</td>\n",
       "      <td>38.82</td>\n",
       "      <td>1.00</td>\n",
       "      <td>26.39</td>\n",
       "      <td>0.46</td>\n",
       "      <td>30564.39</td>\n",
       "      <td>112.03</td>\n",
       "      <td>154.35</td>\n",
       "      <td>0.12</td>\n",
       "    </tr>\n",
       "    <tr>\n",
       "      <th>std</th>\n",
       "      <td>110016.84</td>\n",
       "      <td>15.51</td>\n",
       "      <td>0.05</td>\n",
       "      <td>13.23</td>\n",
       "      <td>0.50</td>\n",
       "      <td>17213.16</td>\n",
       "      <td>54.20</td>\n",
       "      <td>83.67</td>\n",
       "      <td>0.33</td>\n",
       "    </tr>\n",
       "    <tr>\n",
       "      <th>min</th>\n",
       "      <td>1.00</td>\n",
       "      <td>20.00</td>\n",
       "      <td>0.00</td>\n",
       "      <td>0.00</td>\n",
       "      <td>0.00</td>\n",
       "      <td>2630.00</td>\n",
       "      <td>1.00</td>\n",
       "      <td>10.00</td>\n",
       "      <td>0.00</td>\n",
       "    </tr>\n",
       "    <tr>\n",
       "      <th>25%</th>\n",
       "      <td>95278.00</td>\n",
       "      <td>25.00</td>\n",
       "      <td>1.00</td>\n",
       "      <td>15.00</td>\n",
       "      <td>0.00</td>\n",
       "      <td>24405.00</td>\n",
       "      <td>29.00</td>\n",
       "      <td>82.00</td>\n",
       "      <td>0.00</td>\n",
       "    </tr>\n",
       "    <tr>\n",
       "      <th>50%</th>\n",
       "      <td>190555.00</td>\n",
       "      <td>36.00</td>\n",
       "      <td>1.00</td>\n",
       "      <td>28.00</td>\n",
       "      <td>0.00</td>\n",
       "      <td>31669.00</td>\n",
       "      <td>133.00</td>\n",
       "      <td>154.00</td>\n",
       "      <td>0.00</td>\n",
       "    </tr>\n",
       "    <tr>\n",
       "      <th>75%</th>\n",
       "      <td>285832.00</td>\n",
       "      <td>49.00</td>\n",
       "      <td>1.00</td>\n",
       "      <td>35.00</td>\n",
       "      <td>1.00</td>\n",
       "      <td>39400.00</td>\n",
       "      <td>152.00</td>\n",
       "      <td>227.00</td>\n",
       "      <td>0.00</td>\n",
       "    </tr>\n",
       "    <tr>\n",
       "      <th>max</th>\n",
       "      <td>381109.00</td>\n",
       "      <td>85.00</td>\n",
       "      <td>1.00</td>\n",
       "      <td>52.00</td>\n",
       "      <td>1.00</td>\n",
       "      <td>540165.00</td>\n",
       "      <td>163.00</td>\n",
       "      <td>299.00</td>\n",
       "      <td>1.00</td>\n",
       "    </tr>\n",
       "  </tbody>\n",
       "</table>\n",
       "</div>"
      ],
      "text/plain": [
       "              id        Age  Driving_License  Region_Code  Previously_Insured  \\\n",
       "count  381109.00  381109.00        381109.00    381109.00           381109.00   \n",
       "mean   190555.00      38.82             1.00        26.39                0.46   \n",
       "std    110016.84      15.51             0.05        13.23                0.50   \n",
       "min         1.00      20.00             0.00         0.00                0.00   \n",
       "25%     95278.00      25.00             1.00        15.00                0.00   \n",
       "50%    190555.00      36.00             1.00        28.00                0.00   \n",
       "75%    285832.00      49.00             1.00        35.00                1.00   \n",
       "max    381109.00      85.00             1.00        52.00                1.00   \n",
       "\n",
       "       Annual_Premium  Policy_Sales_Channel    Vintage   Response  \n",
       "count       381109.00             381109.00  381109.00  381109.00  \n",
       "mean         30564.39                112.03     154.35       0.12  \n",
       "std          17213.16                 54.20      83.67       0.33  \n",
       "min           2630.00                  1.00      10.00       0.00  \n",
       "25%          24405.00                 29.00      82.00       0.00  \n",
       "50%          31669.00                133.00     154.00       0.00  \n",
       "75%          39400.00                152.00     227.00       0.00  \n",
       "max         540165.00                163.00     299.00       1.00  "
      ]
     },
     "execution_count": 5,
     "metadata": {},
     "output_type": "execute_result"
    }
   ],
   "source": [
    "insurance_df.describe().round(2)\n"
   ]
  },
  {
   "cell_type": "code",
   "execution_count": 6,
   "metadata": {},
   "outputs": [
    {
     "data": {
      "text/plain": [
       "id                      381109\n",
       "Gender                  381109\n",
       "Age                     381109\n",
       "Driving_License         381109\n",
       "Region_Code             381109\n",
       "Previously_Insured      381109\n",
       "Vehicle_Age             381109\n",
       "Vehicle_Damage          381109\n",
       "Annual_Premium          381109\n",
       "Policy_Sales_Channel    381109\n",
       "Vintage                 381109\n",
       "Response                381109\n",
       "dtype: int64"
      ]
     },
     "execution_count": 6,
     "metadata": {},
     "output_type": "execute_result"
    }
   ],
   "source": [
    "insurance_df.count()"
   ]
  },
  {
   "cell_type": "markdown",
   "metadata": {},
   "source": [
    "From dataset importing, we can observe that the dataset does not have any missing values. The dataset has 12 features and 381109 observations. The dataset has 8 categorical features and 4 numerical features which are  \"ID\", \"Age\", \"Annual_Premium\", \"Vintage\". \n",
    "The target variable is 'Response' which is a binary variable. "
   ]
  },
  {
   "cell_type": "code",
   "execution_count": 7,
   "metadata": {},
   "outputs": [
    {
     "name": "stdout",
     "output_type": "stream",
     "text": [
      "Gender\n",
      "Male      206089\n",
      "Female    175020\n",
      "Name: count, dtype: int64\n",
      "Driving_License\n",
      "1    380297\n",
      "0       812\n",
      "Name: count, dtype: int64\n",
      "Region_Code\n",
      "28.0    106415\n",
      "8.0      33877\n",
      "46.0     19749\n",
      "41.0     18263\n",
      "15.0     13308\n",
      "30.0     12191\n",
      "29.0     11065\n",
      "50.0     10243\n",
      "3.0       9251\n",
      "11.0      9232\n",
      "36.0      8797\n",
      "33.0      7654\n",
      "47.0      7436\n",
      "35.0      6942\n",
      "6.0       6280\n",
      "45.0      5605\n",
      "37.0      5501\n",
      "18.0      5153\n",
      "48.0      4681\n",
      "14.0      4678\n",
      "39.0      4644\n",
      "10.0      4374\n",
      "21.0      4266\n",
      "2.0       4038\n",
      "13.0      4036\n",
      "7.0       3279\n",
      "12.0      3198\n",
      "9.0       3101\n",
      "27.0      2823\n",
      "32.0      2787\n",
      "43.0      2639\n",
      "17.0      2617\n",
      "26.0      2587\n",
      "25.0      2503\n",
      "24.0      2415\n",
      "38.0      2026\n",
      "0.0       2021\n",
      "16.0      2007\n",
      "31.0      1960\n",
      "23.0      1960\n",
      "20.0      1935\n",
      "49.0      1832\n",
      "4.0       1801\n",
      "34.0      1664\n",
      "19.0      1535\n",
      "22.0      1309\n",
      "40.0      1295\n",
      "5.0       1279\n",
      "1.0       1008\n",
      "44.0       808\n",
      "42.0       591\n",
      "52.0       267\n",
      "51.0       183\n",
      "Name: count, dtype: int64\n",
      "Previously_Insured\n",
      "0    206481\n",
      "1    174628\n",
      "Name: count, dtype: int64\n",
      "Vehicle_Age\n",
      "1-2 Year     200316\n",
      "< 1 Year     164786\n",
      "> 2 Years     16007\n",
      "Name: count, dtype: int64\n",
      "Vehicle_Damage\n",
      "Yes    192413\n",
      "No     188696\n",
      "Name: count, dtype: int64\n",
      "Policy_Sales_Channel\n",
      "152.0    134784\n",
      "26.0      79700\n",
      "124.0     73995\n",
      "160.0     21779\n",
      "156.0     10661\n",
      "          ...  \n",
      "149.0         1\n",
      "43.0          1\n",
      "144.0         1\n",
      "143.0         1\n",
      "41.0          1\n",
      "Name: count, Length: 155, dtype: int64\n",
      "Response\n",
      "0    334399\n",
      "1     46710\n",
      "Name: count, dtype: int64\n"
     ]
    }
   ],
   "source": [
    "insurance_df_categorical = insurance_df.drop([\"id\",\"Annual_Premium\", \"Age\", \"Vintage\"],  axis=1).copy()\n",
    "for column in insurance_df_categorical.columns:\n",
    "    print(insurance_df_categorical[column].value_counts())"
   ]
  },
  {
   "cell_type": "markdown",
   "metadata": {},
   "source": [
    "Moreover the dataset is imbalanced as the number of observations for 'Response' = 1 is 46710 and for 'Response' = 0 is 334399, and other categorical features are also imbalanced (for example, 'Vehicle_Age' has 164786 observations for '< 1 Year' and 200316 observations for '> 2 Years'). This is an important factor to consider while building the model.<br>\n",
    "It is interesting to observe that the dataset has 2 features 'Policy_Sales_Channel' and 'Region_Code' which have 155 and 53 unique values respectively. This is a large number of unique values for categorical features and would be another challenging point while building the model.<br>\n",
    "There are 812 buyers who have not a driving license, and just 41 of them are interested in the vehicle insurance. This is a very small number of observations."
   ]
  },
  {
   "cell_type": "code",
   "execution_count": 8,
   "metadata": {},
   "outputs": [
    {
     "name": "stdout",
     "output_type": "stream",
     "text": [
      "Response\n",
      "0    771\n",
      "1     41\n",
      "Name: count, dtype: int64\n"
     ]
    }
   ],
   "source": [
    "responce_with_no_licence = insurance_df[insurance_df[\"Driving_License\"] == 0][\"Response\"]\n",
    "print(responce_with_no_licence.value_counts())\n",
    "\n",
    "#potrebbe trattarsi di una bicicletta o di un monopattino elettrico ad esempio\n"
   ]
  },
  {
   "cell_type": "markdown",
   "metadata": {},
   "source": [
    "# Data Preprocessing"
   ]
  },
  {
   "cell_type": "code",
   "execution_count": 9,
   "metadata": {},
   "outputs": [],
   "source": [
    "from sklearn.preprocessing import LabelEncoder, OneHotEncoder\n",
    "from sklearn.metrics import log_loss, classification_report\n",
    "\n",
    "def encode_set(dataset, X=np.array([]), label_encoder=LabelEncoder(), one_hot_encoder=None):\n",
    "    for column in dataset.columns:\n",
    "        X_tmp = label_encoder.fit_transform(dataset[column])\n",
    "        X_tmp = X_tmp.reshape(X_tmp.shape[0],1)\n",
    "        if(one_hot_encoder is not None):\n",
    "            X_tmp = one_hot_encoder.fit_transform(X_tmp[:,0].reshape(-1,1)).toarray()\n",
    "        if X.shape[0] == 0:\n",
    "            X = X_tmp\n",
    "        else:\n",
    "            X = np.hstack((X_tmp, X))\n",
    "        print(f\"Categorical feature: {column}, Number of categories: {X_tmp[1,:].shape[0]}\")\n",
    "    return X\n",
    "\n",
    "\n",
    "def evaluate_model(model, data, scaler=None, train_test_dataset='Train', print_report=False, threshold=0.5):\n",
    "    '''\n",
    "    Evaluate model performance on a given dataset. To be used after training the model.\n",
    "    :param model: trained model\n",
    "    :param data: tuple of features and labels\n",
    "    :param scaler: scaler used to scale the features\n",
    "    :param train_test_dataset: string to identify the dataset\n",
    "    :param print_report: boolean to print classification report \n",
    "    '''\n",
    "    X_, y_ = data\n",
    "    if scaler is not None:\n",
    "        X_ = scaler.transform(X_)\n",
    "\n",
    "    y_pred_ = model.predict(X_)\n",
    "    y_pred_proba_ = model.predict_proba(X_)\n",
    "\n",
    "    if threshold != 0.5:\n",
    "        y_pred_ = np.where(y_pred_proba_[:,1] > threshold, 1, 0)\n",
    "\n",
    "\n",
    "    print('Accuracy: {:.3f}'.format(model.score(X_, y_)))\n",
    "    print(f\"Log-Loss: {log_loss(y_, y_pred_proba_):.3f}\")\n",
    "    if print_report:\n",
    "        print(f\"{train_test_dataset} Report:\")\n",
    "        print(classification_report(y_, y_pred_))"
   ]
  },
  {
   "cell_type": "code",
   "execution_count": 10,
   "metadata": {},
   "outputs": [
    {
     "name": "stdout",
     "output_type": "stream",
     "text": [
      "(381109, 3)\n",
      "Categorical feature: Gender, Number of categories: 2\n",
      "Categorical feature: Driving_License, Number of categories: 2\n",
      "Categorical feature: Region_Code, Number of categories: 53\n",
      "Categorical feature: Previously_Insured, Number of categories: 2\n",
      "Categorical feature: Vehicle_Age, Number of categories: 3\n",
      "Categorical feature: Vehicle_Damage, Number of categories: 2\n",
      "Categorical feature: Policy_Sales_Channel, Number of categories: 155\n"
     ]
    }
   ],
   "source": [
    "label_encoder = LabelEncoder()\n",
    "one_hot_encoder = OneHotEncoder()\n",
    "\n",
    "X = insurance_df.drop([\"id\",\"Response\",\"Gender\", \"Driving_License\", \"Region_Code\", \"Previously_Insured\", \"Vehicle_Age\", \"Vehicle_Damage\", \"Policy_Sales_Channel\"], axis=1).copy()\n",
    "print(X.shape)\n",
    "insurance_df_categorical = insurance_df_categorical.drop(\"Response\", axis=1).copy()\n",
    "X = encode_set(insurance_df_categorical, X, label_encoder, one_hot_encoder)\n"
   ]
  },
  {
   "cell_type": "code",
   "execution_count": 11,
   "metadata": {},
   "outputs": [
    {
     "data": {
      "text/plain": [
       "array([1, 0, 1, ..., 0, 0, 0])"
      ]
     },
     "execution_count": 11,
     "metadata": {},
     "output_type": "execute_result"
    }
   ],
   "source": [
    "Y = insurance_df[\"Response\"].copy()\n",
    "Y = label_encoder.fit_transform(Y)\n",
    "Y"
   ]
  },
  {
   "cell_type": "code",
   "execution_count": 12,
   "metadata": {},
   "outputs": [
    {
     "name": "stdout",
     "output_type": "stream",
     "text": [
      "[0 0 0 ... 0 0 0]\n",
      "Fraction of ones in the train set:  0.123\n",
      "Fraction of ones in the test set:  0.123\n",
      "Fraction of ones in the entire dataset:  0.123\n"
     ]
    }
   ],
   "source": [
    "RANDOM_SEED = 42\n",
    "m = X.shape[0]\n",
    "m_train = int(m * 0.75)\n",
    "m_test = m - m_train\n",
    "\n",
    "random_indices = np.random.permutation(m)\n",
    "X_rand = X[random_indices]\n",
    "Y_rand = Y[random_indices]\n",
    "\n",
    "X_training, X_test, Y_training, Y_test = train_test_split(X_rand, Y_rand, test_size =float(m_test)/float(m), random_state = RANDOM_SEED)\n",
    "\n",
    "print(Y_training)\n",
    "\n",
    "m_training = X_training.shape[0]\n",
    "m_test = X_test.shape[0]\n",
    "\n",
    "#let's see what the fraction of ones in the entire dataset is\n",
    "print(\"Fraction of ones in the train set: \", round(float(sum(Y_training))/float(m_training), 3))\n",
    "print(\"Fraction of ones in the test set: \", round(float(sum(Y_test))/float(m_test), 3))\n",
    "print(\"Fraction of ones in the entire dataset: \", round(float(sum(Y_training)+sum(Y_test))/float(m_training+m_test), 3))\n"
   ]
  },
  {
   "cell_type": "code",
   "execution_count": 13,
   "metadata": {},
   "outputs": [],
   "source": [
    "std_scaler = StandardScaler()\n",
    "X_training = std_scaler.fit_transform(X_training)"
   ]
  },
  {
   "cell_type": "markdown",
   "metadata": {},
   "source": [
    "## Model 1: LogisticRegression with L1"
   ]
  },
  {
   "cell_type": "code",
   "execution_count": 14,
   "metadata": {},
   "outputs": [
    {
     "name": "stdout",
     "output_type": "stream",
     "text": [
      "Accuracy: 0.695\n",
      "Log-Loss: 0.473\n",
      "Train Report:\n",
      "              precision    recall  f1-score   support\n",
      "\n",
      "           0       0.99      0.66      0.79    250799\n",
      "           1       0.28      0.94      0.43     35032\n",
      "\n",
      "    accuracy                           0.70    285831\n",
      "   macro avg       0.63      0.80      0.61    285831\n",
      "weighted avg       0.90      0.70      0.75    285831\n",
      "\n"
     ]
    }
   ],
   "source": [
    "from sklearn.linear_model import LogisticRegression\n",
    "#log_reg = LogisticRegression(penalty='l1', C=10000, solver='saga', class_weight='balanced')\n",
    "log_reg = LogisticRegression(penalty='l2', C=0.01, class_weight='balanced')\n",
    "\n",
    "log_reg.fit(X_training, Y_training)\n",
    "evaluate_model(log_reg, (X_training, Y_training), print_report=True)\n"
   ]
  },
  {
   "cell_type": "code",
   "execution_count": 15,
   "metadata": {},
   "outputs": [
    {
     "name": "stdout",
     "output_type": "stream",
     "text": [
      "Accuracy: 0.695\n",
      "Log-Loss: 0.473\n",
      "Test Report:\n",
      "              precision    recall  f1-score   support\n",
      "\n",
      "           0       0.99      0.66      0.79     83600\n",
      "           1       0.28      0.93      0.43     11678\n",
      "\n",
      "    accuracy                           0.70     95278\n",
      "   macro avg       0.63      0.80      0.61     95278\n",
      "weighted avg       0.90      0.70      0.75     95278\n",
      "\n"
     ]
    }
   ],
   "source": [
    "evaluate_model(log_reg, (X_test, Y_test), scaler=std_scaler, train_test_dataset='Test', print_report=True)"
   ]
  },
  {
   "cell_type": "code",
   "execution_count": 16,
   "metadata": {},
   "outputs": [
    {
     "name": "stdout",
     "output_type": "stream",
     "text": [
      "Confusion matrix for training set:\n",
      "[[165966  84833]\n",
      " [  2241  32791]]\n",
      "Confusion matrix for test set:\n",
      "[[ 7727 75873]\n",
      " [ 1178 10500]]\n"
     ]
    }
   ],
   "source": [
    "from sklearn.metrics import confusion_matrix, auc, roc_curve, roc_auc_score, RocCurveDisplay, classification_report\n",
    "y_pred_proba_training = log_reg.predict_proba(X_training)\n",
    "y_pred_train = log_reg.predict(X_training)\n",
    "y_pred_proba_test = log_reg.predict_proba(X_test)\n",
    "y_pred_test = log_reg.predict(X_test)\n",
    "\n",
    "confusion_matrix_train = confusion_matrix(Y_training, y_pred_train)\n",
    "confusion_matrix_test = confusion_matrix(Y_test, y_pred_test)\n",
    "\n",
    "print(\"Confusion matrix for training set:\")\n",
    "print(confusion_matrix_train)\n",
    "print(\"Confusion matrix for test set:\")\n",
    "print(confusion_matrix_test)\n",
    "\n"
   ]
  },
  {
   "cell_type": "code",
   "execution_count": 17,
   "metadata": {},
   "outputs": [
    {
     "data": {
      "image/png": "[encoded data removed]",
      "text/plain": [
       "<Figure size 1000x600 with 2 Axes>"
      ]
     },
     "metadata": {},
     "output_type": "display_data"
    }
   ],
   "source": [
    "plt.figure(figsize=(10, 6))\n",
    "ax = sns.heatmap(data=confusion_matrix_test, annot=True, fmt='g')\n",
    "plt.title(\"Confusion Matrix Test Set\")\n",
    "ax.xaxis.set_ticklabels(['Predicted No', 'Predicted Yes'])\n",
    "ax.yaxis.set_ticklabels(['No', 'Yes'])\n",
    "plt.show()"
   ]
  },
  {
   "cell_type": "code",
   "execution_count": 18,
   "metadata": {},
   "outputs": [
    {
     "data": {
      "image/png": "[encoded data removed]",
      "text/plain": [
       "<Figure size 1000x600 with 2 Axes>"
      ]
     },
     "metadata": {},
     "output_type": "display_data"
    }
   ],
   "source": [
    "plt.figure(figsize=(10, 6))\n",
    "ax = sns.heatmap(data=confusion_matrix_train, annot=True, fmt='g')\n",
    "plt.title(\"Confusion Matrix Test Set\")\n",
    "ax.xaxis.set_ticklabels(['Predicted No', 'Predicted Yes'])\n",
    "ax.yaxis.set_ticklabels(['No', 'Yes'])\n",
    "plt.show()"
   ]
  },
  {
   "cell_type": "markdown",
   "metadata": {},
   "source": [
    "## Model 2: LogisticRegression with Cross Validation and polynomial features"
   ]
  },
  {
   "cell_type": "code",
   "execution_count": 19,
   "metadata": {},
   "outputs": [],
   "source": [
    "from sklearn.linear_model import LogisticRegressionCV\n"
   ]
  },
  {
   "cell_type": "code",
   "execution_count": 20,
   "metadata": {},
   "outputs": [],
   "source": [
    "def logistic_regression_CV(X_training, Y_training):\n",
    "    log_reg_cv = LogisticRegressionCV(Cs=10, cv=10, penalty='l2', class_weight='balanced')\n",
    "    log_reg_cv.fit(X_training, Y_training)\n",
    "\n",
    "    print(\"Values of parameter C tried in 10-fold Cross-Validation: {}\".format( log_reg_cv.Cs_ ))\n",
    "    CV_accuracies = np.divide(np.sum(log_reg_cv.scores_[1],0),10)\n",
    "    print(\"Accuracies obtained for the different values of C with 10-fold Cross-Validation: {}\".format( CV_accuracies ))\n",
    "\n",
    "    print(\"Best value C according to 10-fold Cross-Validation: {}\".format( log_reg_cv.C_[0] ))\n",
    "\n",
    "    # let's store the best CV accuracy, and then print it\n",
    "    print(log_reg_cv.scores_[1])\n",
    "    regL2_best_CV_accuracy = np.max(log_reg_cv.scores_[1])\n",
    "    print(\"10-fold Cross-Validation accuracies obtained with the best value of parameter C: {}\".format( regL2_best_CV_accuracy ))\n",
    "\n",
    "    regL2_full = LogisticRegression(C = log_reg_cv.C_[0], penalty='l2', class_weight='balanced')\n",
    "\n",
    "\n",
    "    #fit the model using the best C on the entire training set\n",
    "    regL2_full.fit(X_training, Y_training)\n",
    "\n",
    "\n",
    "    evaluate_model(regL2_full, (X_training, Y_training), print_report=True)\n",
    "    return regL2_full\n"
   ]
  },
  {
   "cell_type": "code",
   "execution_count": 21,
   "metadata": {},
   "outputs": [
    {
     "name": "stdout",
     "output_type": "stream",
     "text": [
      "Values of parameter C tried in 10-fold Cross-Validation: [1.00000000e-04 7.74263683e-04 5.99484250e-03 4.64158883e-02\n",
      " 3.59381366e-01 2.78255940e+00 2.15443469e+01 1.66810054e+02\n",
      " 1.29154967e+03 1.00000000e+04]\n",
      "Accuracies obtained for the different values of C with 10-fold Cross-Validation: [0.69312985 0.69404647 0.69491762 0.69501208 0.69503307 0.69501908\n",
      " 0.69501908 0.69501558 0.69501558 0.69502258]\n",
      "Best value C according to 10-fold Cross-Validation: 0.3593813663804626\n",
      "[[0.6959138  0.69647355 0.69692835 0.69713826 0.69724321 0.69720823\n",
      "  0.69720823 0.69720823 0.69720823 0.69720823]\n",
      " [0.69236959 0.69320925 0.6945737  0.69464367 0.69467866 0.69467866\n",
      "  0.69467866 0.69467866 0.69467866 0.69467866]\n",
      " [0.69257951 0.69191477 0.69257951 0.69264948 0.69264948 0.69264948\n",
      "  0.69264948 0.69264948 0.69264948 0.69264948]\n",
      " [0.68757653 0.68897596 0.69023545 0.69020047 0.69016548 0.6901305\n",
      "  0.6901305  0.6901305  0.6901305  0.6901305 ]\n",
      " [0.69303432 0.69460868 0.69572823 0.69590316 0.69597313 0.69597313\n",
      "  0.69597313 0.69597313 0.69597313 0.69597313]\n",
      " [0.69373404 0.69534339 0.696288   0.69646293 0.69646293 0.69646293\n",
      "  0.69646293 0.69642795 0.69642795 0.69642795]\n",
      " [0.6960431  0.69548333 0.69621803 0.69621803 0.69614806 0.69614806\n",
      "  0.69614806 0.69614806 0.69614806 0.69614806]\n",
      " [0.68995557 0.69132002 0.69180982 0.69201973 0.69205472 0.69198475\n",
      "  0.69198475 0.69198475 0.69198475 0.69201973]\n",
      " [0.69411888 0.69597313 0.69758248 0.69761746 0.69768744 0.69768744\n",
      "  0.69768744 0.69768744 0.69768744 0.69768744]\n",
      " [0.69597313 0.69716265 0.69723262 0.69726761 0.69726761 0.69726761\n",
      "  0.69726761 0.69726761 0.69726761 0.69730259]]\n",
      "10-fold Cross-Validation accuracies obtained with the best value of parameter C: 0.6976874365881818\n",
      "Accuracy: 0.695\n",
      "Log-Loss: 0.473\n",
      "Train Report:\n",
      "              precision    recall  f1-score   support\n",
      "\n",
      "           0       0.99      0.66      0.79    250799\n",
      "           1       0.28      0.94      0.43     35032\n",
      "\n",
      "    accuracy                           0.70    285831\n",
      "   macro avg       0.63      0.80      0.61    285831\n",
      "weighted avg       0.90      0.70      0.75    285831\n",
      "\n",
      "Accuracy: 0.695\n",
      "Log-Loss: 0.473\n",
      "Test Report:\n",
      "              precision    recall  f1-score   support\n",
      "\n",
      "           0       0.99      0.66      0.79     83600\n",
      "           1       0.28      0.93      0.43     11678\n",
      "\n",
      "    accuracy                           0.70     95278\n",
      "   macro avg       0.63      0.80      0.61     95278\n",
      "weighted avg       0.90      0.70      0.75     95278\n",
      "\n"
     ]
    },
    {
     "data": {
      "image/png": "[encoded data removed]",
      "text/plain": [
       "<Figure size 1000x600 with 2 Axes>"
      ]
     },
     "metadata": {},
     "output_type": "display_data"
    }
   ],
   "source": [
    "regL2_full = logistic_regression_CV(X_training, Y_training)\n",
    "\n",
    "evaluate_model(regL2_full, (X_test, Y_test), scaler=std_scaler, train_test_dataset='Test', print_report=True)\n",
    "\n",
    "y_pred_proba_test = regL2_full.predict_proba(X_test)\n",
    "y_pred_test = regL2_full.predict(X_test)\n",
    "confusion_matrix_test = confusion_matrix(Y_test, y_pred_test)\n",
    "\n",
    "plt.figure(figsize=(10, 6))\n",
    "ax = sns.heatmap(data=confusion_matrix_test, annot=True, fmt='g')\n",
    "plt.title(\"Confusion Matrix Test Set\")\n",
    "ax.xaxis.set_ticklabels(['Predicted No', 'Predicted Yes'])\n",
    "ax.yaxis.set_ticklabels(['No', 'Yes'])\n",
    "plt.show()"
   ]
  },
  {
   "cell_type": "markdown",
   "metadata": {},
   "source": [
    "## Rimuovo samples per ribalanciare il dataset\n"
   ]
  },
  {
   "cell_type": "code",
   "execution_count": 84,
   "metadata": {},
   "outputs": [
    {
     "name": "stdout",
     "output_type": "stream",
     "text": [
      "Response\n",
      "0    334399\n",
      "1     46710\n",
      "Name: count, dtype: int64\n",
      "(212764, 11)\n",
      "Response\n",
      "0    166297\n",
      "1     46467\n",
      "Name: count, dtype: int64\n",
      "23233\n",
      "(23233, 11)\n",
      "Response\n",
      "0    166297\n",
      "1     69700\n",
      "Name: count, dtype: int64\n"
     ]
    }
   ],
   "source": [
    "df = pd.read_csv('data/insurance_cross_sell.csv')\n",
    "\n",
    "df = df.drop(['id'], axis=1)\n",
    "\n",
    "print(df['Response'].value_counts())\n",
    "\n",
    "df = df.groupby('Policy_Sales_Channel').filter(lambda x: len(x)> 100)\n",
    "\n",
    "idx = df[df['Response'] == 0].index\n",
    "np.random.seed(RANDOM_SEED)\n",
    "idx_to_remove = np.random.choice(idx, int(len(idx)*0.5), replace=False)\n",
    "\n",
    "df = df.drop(idx_to_remove)\n",
    "print(df.shape)\n",
    "print(df['Response'].value_counts())\n",
    "\n",
    "df.index = range(len(df))\n",
    "\n",
    "idx = df[df['Response'] == 1].index\n",
    "np.random.seed(RANDOM_SEED)\n",
    "idx_to_add = np.random.choice(idx, int(len(idx)*0.5), replace=False)\n",
    "\n",
    "samples_to_add = df.iloc[idx_to_add.tolist()]\n",
    "print(len(idx_to_add))\n",
    "print(samples_to_add.shape)\n",
    "\n",
    "df = pd.concat([df, samples_to_add], ignore_index=True)\n",
    "\n",
    "\n",
    "print(df['Response'].value_counts())\n"
   ]
  },
  {
   "cell_type": "code",
   "execution_count": 90,
   "metadata": {},
   "outputs": [
    {
     "name": "stdout",
     "output_type": "stream",
     "text": [
      "(235997, 3)\n",
      "Categorical feature: Driving_License, Number of categories: 1\n",
      "Categorical feature: Previously_Insured, Number of categories: 1\n",
      "Categorical feature: Vehicle_Age, Number of categories: 1\n",
      "Categorical feature: Vehicle_Damage, Number of categories: 1\n",
      "Policy_Sales_Channel\n",
      "152.0    71390\n",
      "26.0     55518\n",
      "124.0    51107\n",
      "160.0    11413\n",
      "156.0     7590\n",
      "         ...  \n",
      "140.0       63\n",
      "135.0       56\n",
      "119.0       56\n",
      "127.0       55\n",
      "113.0       51\n",
      "Name: count, Length: 62, dtype: int64\n"
     ]
    }
   ],
   "source": [
    "X = df.drop([\"Response\",\"Gender\", \"Driving_License\", \"Region_Code\", \"Previously_Insured\", \"Vehicle_Age\", \"Vehicle_Damage\", \"Policy_Sales_Channel\"], axis=1).copy()\n",
    "print(X.shape)\n",
    "df_categorical = df.drop([\"Region_Code\", \"Gender\", \"Policy_Sales_Channel\", \"Annual_Premium\", \"Age\", \"Vintage\"],  axis=1).copy()\n",
    "df_categorical = df_categorical.drop(\"Response\", axis=1).copy()\n",
    "X = encode_set(df_categorical, X, label_encoder) #,one_hot_encoder\n",
    "Y = df[\"Response\"].copy()\n",
    "\n",
    "RANDOM_SEED = 42\n",
    "m = X.shape[0]\n",
    "m_train = int(m * 0.75)\n",
    "m_test = m - m_train\n",
    "\n",
    "random_indices = np.random.permutation(m)\n",
    "X_rand = X[random_indices]\n",
    "Y_rand = Y[random_indices]\n",
    "\n",
    "X_training, X_test, Y_training, Y_test = train_test_split(X, Y, test_size =float(m_test)/float(m))\n",
    "\n",
    "m_training = X_training.shape[0]\n",
    "m_test = X_test.shape[0]\n",
    "\n",
    "print(df[\"Policy_Sales_Channel\"].value_counts())\n"
   ]
  },
  {
   "cell_type": "code",
   "execution_count": 91,
   "metadata": {},
   "outputs": [],
   "source": [
    "std_scaler = StandardScaler()\n",
    "X_training = std_scaler.fit_transform(X_training)\n",
    "X_test = std_scaler.transform(X_test)"
   ]
  },
  {
   "cell_type": "code",
   "execution_count": 92,
   "metadata": {},
   "outputs": [
    {
     "name": "stdout",
     "output_type": "stream",
     "text": [
      "Accuracy: 0.705\n",
      "Log-Loss: 0.478\n",
      "Train Report:\n",
      "              precision    recall  f1-score   support\n",
      "\n",
      "           0       0.98      0.59      0.74    124872\n",
      "           1       0.50      0.98      0.66     52125\n",
      "\n",
      "    accuracy                           0.71    176997\n",
      "   macro avg       0.74      0.78      0.70    176997\n",
      "weighted avg       0.84      0.71      0.72    176997\n",
      "\n"
     ]
    }
   ],
   "source": [
    "log_reg = LogisticRegression(penalty='l2', C=0.01, class_weight='balanced')\n",
    "\n",
    "log_reg.fit(X_training, Y_training)\n",
    "evaluate_model(log_reg, (X_training, Y_training), print_report=True)"
   ]
  },
  {
   "cell_type": "code",
   "execution_count": 88,
   "metadata": {},
   "outputs": [
    {
     "name": "stdout",
     "output_type": "stream",
     "text": [
      "Accuracy: 0.705\n",
      "Log-Loss: 0.641\n",
      "Test Report:\n",
      "              precision    recall  f1-score   support\n",
      "\n",
      "           0       0.98      0.59      0.74     41642\n",
      "           1       0.50      0.98      0.66     17358\n",
      "\n",
      "    accuracy                           0.70     59000\n",
      "   macro avg       0.74      0.78      0.70     59000\n",
      "weighted avg       0.84      0.70      0.72     59000\n",
      "\n"
     ]
    }
   ],
   "source": [
    "evaluate_model(log_reg, (X_test, Y_test), scaler=std_scaler, train_test_dataset='Test', print_report=True)"
   ]
  },
  {
   "cell_type": "code",
   "execution_count": 89,
   "metadata": {},
   "outputs": [
    {
     "data": {
      "image/png": "[encoded data removed]",
      "text/plain": [
       "<Figure size 1000x600 with 2 Axes>"
      ]
     },
     "metadata": {},
     "output_type": "display_data"
    }
   ],
   "source": [
    "y_pred_proba_test = log_reg.predict_proba(X_test)\n",
    "y_pred_test = np.where(y_pred_proba_test[:,1] > 0.5, 1, 0)\n",
    "\n",
    "confusion_matrix_test = confusion_matrix(Y_test, y_pred_test)\n",
    "\n",
    "\n",
    "plt.figure(figsize=(10, 6))\n",
    "ax = sns.heatmap(data=confusion_matrix_test, annot=True, fmt='g')\n",
    "plt.title(\"Confusion Matrix Test Set\")\n",
    "ax.xaxis.set_ticklabels(['Predicted No', 'Predicted Yes'])\n",
    "ax.yaxis.set_ticklabels(['No', 'Yes'])\n",
    "plt.show()"
   ]
  },
  {
   "cell_type": "code",
   "execution_count": 45,
   "metadata": {},
   "outputs": [
    {
     "name": "stderr",
     "output_type": "stream",
     "text": [
      "/home/enrico/anaconda3/lib/python3.11/site-packages/sklearn/linear_model/_logistic.py:460: ConvergenceWarning: lbfgs failed to converge (status=1):\n",
      "STOP: TOTAL NO. of ITERATIONS REACHED LIMIT.\n",
      "\n",
      "Increase the number of iterations (max_iter) or scale the data as shown in:\n",
      "    https://scikit-learn.org/stable/modules/preprocessing.html\n",
      "Please also refer to the documentation for alternative solver options:\n",
      "    https://scikit-learn.org/stable/modules/linear_model.html#logistic-regression\n",
      "  n_iter_i = _check_optimize_result(\n",
      "/home/enrico/anaconda3/lib/python3.11/site-packages/sklearn/linear_model/_logistic.py:460: ConvergenceWarning: lbfgs failed to converge (status=1):\n",
      "STOP: TOTAL NO. of ITERATIONS REACHED LIMIT.\n",
      "\n",
      "Increase the number of iterations (max_iter) or scale the data as shown in:\n",
      "    https://scikit-learn.org/stable/modules/preprocessing.html\n",
      "Please also refer to the documentation for alternative solver options:\n",
      "    https://scikit-learn.org/stable/modules/linear_model.html#logistic-regression\n",
      "  n_iter_i = _check_optimize_result(\n",
      "/home/enrico/anaconda3/lib/python3.11/site-packages/sklearn/linear_model/_logistic.py:460: ConvergenceWarning: lbfgs failed to converge (status=1):\n",
      "STOP: TOTAL NO. of ITERATIONS REACHED LIMIT.\n",
      "\n",
      "Increase the number of iterations (max_iter) or scale the data as shown in:\n",
      "    https://scikit-learn.org/stable/modules/preprocessing.html\n",
      "Please also refer to the documentation for alternative solver options:\n",
      "    https://scikit-learn.org/stable/modules/linear_model.html#logistic-regression\n",
      "  n_iter_i = _check_optimize_result(\n",
      "/home/enrico/anaconda3/lib/python3.11/site-packages/sklearn/linear_model/_logistic.py:460: ConvergenceWarning: lbfgs failed to converge (status=1):\n",
      "STOP: TOTAL NO. of ITERATIONS REACHED LIMIT.\n",
      "\n",
      "Increase the number of iterations (max_iter) or scale the data as shown in:\n",
      "    https://scikit-learn.org/stable/modules/preprocessing.html\n",
      "Please also refer to the documentation for alternative solver options:\n",
      "    https://scikit-learn.org/stable/modules/linear_model.html#logistic-regression\n",
      "  n_iter_i = _check_optimize_result(\n",
      "/home/enrico/anaconda3/lib/python3.11/site-packages/sklearn/linear_model/_logistic.py:460: ConvergenceWarning: lbfgs failed to converge (status=1):\n",
      "STOP: TOTAL NO. of ITERATIONS REACHED LIMIT.\n",
      "\n",
      "Increase the number of iterations (max_iter) or scale the data as shown in:\n",
      "    https://scikit-learn.org/stable/modules/preprocessing.html\n",
      "Please also refer to the documentation for alternative solver options:\n",
      "    https://scikit-learn.org/stable/modules/linear_model.html#logistic-regression\n",
      "  n_iter_i = _check_optimize_result(\n",
      "/home/enrico/anaconda3/lib/python3.11/site-packages/sklearn/linear_model/_logistic.py:460: ConvergenceWarning: lbfgs failed to converge (status=1):\n",
      "STOP: TOTAL NO. of ITERATIONS REACHED LIMIT.\n",
      "\n",
      "Increase the number of iterations (max_iter) or scale the data as shown in:\n",
      "    https://scikit-learn.org/stable/modules/preprocessing.html\n",
      "Please also refer to the documentation for alternative solver options:\n",
      "    https://scikit-learn.org/stable/modules/linear_model.html#logistic-regression\n",
      "  n_iter_i = _check_optimize_result(\n",
      "/home/enrico/anaconda3/lib/python3.11/site-packages/sklearn/linear_model/_logistic.py:460: ConvergenceWarning: lbfgs failed to converge (status=1):\n",
      "STOP: TOTAL NO. of ITERATIONS REACHED LIMIT.\n",
      "\n",
      "Increase the number of iterations (max_iter) or scale the data as shown in:\n",
      "    https://scikit-learn.org/stable/modules/preprocessing.html\n",
      "Please also refer to the documentation for alternative solver options:\n",
      "    https://scikit-learn.org/stable/modules/linear_model.html#logistic-regression\n",
      "  n_iter_i = _check_optimize_result(\n",
      "/home/enrico/anaconda3/lib/python3.11/site-packages/sklearn/linear_model/_logistic.py:460: ConvergenceWarning: lbfgs failed to converge (status=1):\n",
      "STOP: TOTAL NO. of ITERATIONS REACHED LIMIT.\n",
      "\n",
      "Increase the number of iterations (max_iter) or scale the data as shown in:\n",
      "    https://scikit-learn.org/stable/modules/preprocessing.html\n",
      "Please also refer to the documentation for alternative solver options:\n",
      "    https://scikit-learn.org/stable/modules/linear_model.html#logistic-regression\n",
      "  n_iter_i = _check_optimize_result(\n",
      "/home/enrico/anaconda3/lib/python3.11/site-packages/sklearn/linear_model/_logistic.py:460: ConvergenceWarning: lbfgs failed to converge (status=1):\n",
      "STOP: TOTAL NO. of ITERATIONS REACHED LIMIT.\n",
      "\n",
      "Increase the number of iterations (max_iter) or scale the data as shown in:\n",
      "    https://scikit-learn.org/stable/modules/preprocessing.html\n",
      "Please also refer to the documentation for alternative solver options:\n",
      "    https://scikit-learn.org/stable/modules/linear_model.html#logistic-regression\n",
      "  n_iter_i = _check_optimize_result(\n",
      "/home/enrico/anaconda3/lib/python3.11/site-packages/sklearn/linear_model/_logistic.py:460: ConvergenceWarning: lbfgs failed to converge (status=1):\n",
      "STOP: TOTAL NO. of ITERATIONS REACHED LIMIT.\n",
      "\n",
      "Increase the number of iterations (max_iter) or scale the data as shown in:\n",
      "    https://scikit-learn.org/stable/modules/preprocessing.html\n",
      "Please also refer to the documentation for alternative solver options:\n",
      "    https://scikit-learn.org/stable/modules/linear_model.html#logistic-regression\n",
      "  n_iter_i = _check_optimize_result(\n"
     ]
    },
    {
     "name": "stdout",
     "output_type": "stream",
     "text": [
      "Values of parameter C tried in 10-fold Cross-Validation: [1.00000000e-04 7.74263683e-04 5.99484250e-03 4.64158883e-02\n",
      " 3.59381366e-01 2.78255940e+00 2.15443469e+01 1.66810054e+02\n",
      " 1.29154967e+03 1.00000000e+04]\n",
      "Accuracies obtained for the different values of C with 10-fold Cross-Validation: [0.74363446 0.73961321 0.73841479 0.7381592  0.73810241 0.73810809\n",
      " 0.73810809 0.73810809 0.73810809 0.73810809]\n",
      "Best value C according to 10-fold Cross-Validation: 0.0001\n",
      "[[0.73760436 0.7332311  0.73186801 0.7319816  0.73169762 0.73169762\n",
      "  0.73169762 0.73169762 0.73169762 0.73169762]\n",
      " [0.7435679  0.74050094 0.73936503 0.73930823 0.73902425 0.73902425\n",
      "  0.73902425 0.73902425 0.73902425 0.73902425]\n",
      " [0.74243199 0.74044414 0.73930823 0.73896746 0.73902425 0.73896746\n",
      "  0.73896746 0.73896746 0.73896746 0.73896746]\n",
      " [0.74720282 0.74294315 0.74163685 0.74158005 0.74152326 0.74152326\n",
      "  0.74152326 0.74152326 0.74152326 0.74152326]\n",
      " [0.74549895 0.74135287 0.73913784 0.73879707 0.73874027 0.73885386\n",
      "  0.73885386 0.73885386 0.73885386 0.73885386]\n",
      " [0.74747245 0.74162217 0.74133818 0.74088379 0.74082699 0.74082699\n",
      "  0.74082699 0.74082699 0.74082699 0.74082699]\n",
      " [0.740259   0.73707827 0.7357719  0.7355447  0.7356583  0.7356583\n",
      "  0.7356583  0.7356583  0.7356583  0.7356583 ]\n",
      " [0.7403158  0.73514711 0.73401113 0.73355674 0.73338635 0.73338635\n",
      "  0.73338635 0.73338635 0.73338635 0.73338635]\n",
      " [0.74622288 0.74167897 0.74008861 0.73963422 0.73980461 0.73980461\n",
      "  0.73980461 0.73980461 0.73980461 0.73980461]\n",
      " [0.74576849 0.74213336 0.74162217 0.74133818 0.74133818 0.74133818\n",
      "  0.74133818 0.74133818 0.74133818 0.74133818]]\n",
      "10-fold Cross-Validation accuracies obtained with the best value of parameter C: 0.7474724525729864\n",
      "Accuracy: 0.743\n",
      "Log-Loss: 0.468\n",
      "Train Report:\n",
      "              precision    recall  f1-score   support\n",
      "\n",
      "           0       0.95      0.67      0.79    124134\n",
      "           1       0.54      0.92      0.68     51931\n",
      "\n",
      "    accuracy                           0.74    176065\n",
      "   macro avg       0.74      0.79      0.73    176065\n",
      "weighted avg       0.83      0.74      0.75    176065\n",
      "\n"
     ]
    }
   ],
   "source": [
    "from sklearn.preprocessing import PolynomialFeatures\n",
    "poly = PolynomialFeatures(2)\n",
    "X_training_poly = poly.fit_transform(X_training)\n",
    "regL2_full = logistic_regression_CV(X_training_poly, Y_training)\n",
    "\n"
   ]
  },
  {
   "cell_type": "code",
   "execution_count": 46,
   "metadata": {},
   "outputs": [
    {
     "name": "stdout",
     "output_type": "stream",
     "text": [
      "Accuracy: 0.744\n",
      "Log-Loss: 0.467\n",
      "Test Report:\n",
      "              precision    recall  f1-score   support\n",
      "\n",
      "           0       0.95      0.67      0.79     41231\n",
      "           1       0.54      0.92      0.68     17458\n",
      "\n",
      "    accuracy                           0.74     58689\n",
      "   macro avg       0.75      0.79      0.73     58689\n",
      "weighted avg       0.83      0.74      0.76     58689\n",
      "\n"
     ]
    }
   ],
   "source": [
    "X_test_poly = poly.fit_transform(X_test)\n",
    "evaluate_model(regL2_full, (X_test_poly, Y_test), train_test_dataset='Test', print_report=True)\n"
   ]
  },
  {
   "cell_type": "code",
   "execution_count": 47,
   "metadata": {},
   "outputs": [
    {
     "data": {
      "image/png": "[encoded data removed]",
      "text/plain": [
       "<Figure size 1000x600 with 2 Axes>"
      ]
     },
     "metadata": {},
     "output_type": "display_data"
    }
   ],
   "source": [
    "y_pred_proba_training = regL2_full.predict_proba(X_training_poly)\n",
    "y_pred_training = regL2_full.predict(X_training_poly)\n",
    "confusion_matrix_training = confusion_matrix(Y_training, y_pred_training)\n",
    "\n",
    "\n",
    "plt.figure(figsize=(10, 6))\n",
    "ax = sns.heatmap(data=confusion_matrix_training, annot=True, fmt='g')\n",
    "plt.title(\"Confusion Matrix training Set\")\n",
    "ax.xaxis.set_ticklabels(['Predicted No', 'Predicted Yes'])\n",
    "ax.yaxis.set_ticklabels(['No', 'Yes'])\n",
    "plt.show()"
   ]
  },
  {
   "cell_type": "code",
   "execution_count": 55,
   "metadata": {},
   "outputs": [
    {
     "data": {
      "image/png": "[encoded data removed]",
      "text/plain": [
       "<Figure size 1000x600 with 2 Axes>"
      ]
     },
     "metadata": {},
     "output_type": "display_data"
    }
   ],
   "source": [
    "y_pred_proba_test = regL2_full.predict_proba(X_test_poly)\n",
    "y_pred_test = np.where(y_pred_proba_test[:,1] > 0.5, 1, 0)\n",
    "confusion_matrix_test = confusion_matrix(Y_test, y_pred_test)\n",
    "\n",
    "\n",
    "plt.figure(figsize=(10, 6))\n",
    "ax = sns.heatmap(data=confusion_matrix_test, annot=True, fmt='g')\n",
    "plt.title(\"Confusion Matrix Test Set\")\n",
    "ax.xaxis.set_ticklabels(['Predicted No', 'Predicted Yes'])\n",
    "ax.yaxis.set_ticklabels(['No', 'Yes'])\n",
    "plt.show()"
   ]
  },
  {
   "cell_type": "code",
   "execution_count": null,
   "metadata": {},
   "outputs": [
    {
     "name": "stdout",
     "output_type": "stream",
     "text": [
      "[[1. 0.]\n",
      " [1. 0.]\n",
      " [1. 0.]\n",
      " ...\n",
      " [1. 0.]\n",
      " [1. 0.]\n",
      " [1. 0.]]\n"
     ]
    }
   ],
   "source": [
    "print(y_pred_proba_test) \n"
   ]
  }
 ],
 "metadata": {
  "kernelspec": {
   "display_name": "base",
   "language": "python",
   "name": "python3"
  },
  "language_info": {
   "codemirror_mode": {
    "name": "ipython",
    "version": 3
   },
   "file_extension": ".py",
   "mimetype": "text/x-python",
   "name": "python",
   "nbconvert_exporter": "python",
   "pygments_lexer": "ipython3",
   "version": "3.11.5"
  }
 },
 "nbformat": 4,
 "nbformat_minor": 2
}
